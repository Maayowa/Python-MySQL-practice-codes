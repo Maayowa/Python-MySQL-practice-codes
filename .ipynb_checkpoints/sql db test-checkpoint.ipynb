{
 "cells": [
  {
   "cell_type": "code",
   "execution_count": 1,
   "metadata": {},
   "outputs": [],
   "source": [
    "import mysql.connector as sqlconnect"
   ]
  },
  {
   "cell_type": "markdown",
   "metadata": {},
   "source": [
    "#### Creating connection"
   ]
  },
  {
   "cell_type": "code",
   "execution_count": 3,
   "metadata": {},
   "outputs": [
    {
     "name": "stdout",
     "output_type": "stream",
     "text": [
      "Database version:  [('8.0.23',)]\n"
     ]
    },
    {
     "data": {
      "text/plain": [
       "<mysql.connector.connection.MySQLConnection at 0x25f57a26430>"
      ]
     },
     "execution_count": 3,
     "metadata": {},
     "output_type": "execute_result"
    }
   ],
   "source": [
    "def create_connection(passwd, dbname = None):\n",
    "    connect = sqlconnect.connect(\\\n",
    "                                host = 'localhost',\n",
    "                                user = \"root\",\n",
    "                                passwd = passwd,\n",
    "                                database = dbname)\n",
    "    \n",
    "    try:\n",
    "        cursor = connect.cursor()\n",
    "        query = \"select @@version\"\n",
    "        cursor.execute(query)\n",
    "        out = cursor.fetchall()\n",
    "        print('Database version: ', out)\n",
    "    except Exception as e:\n",
    "        print(\"Exception error: \", e)\n",
    "        \n",
    "    #connect.close()\n",
    "    \n",
    "    return connect\n",
    "create_connection(passwd)\n"
   ]
  },
  {
   "cell_type": "markdown",
   "metadata": {},
   "source": [
    "#### Creating database"
   ]
  },
  {
   "cell_type": "code",
   "execution_count": 5,
   "metadata": {},
   "outputs": [],
   "source": [
    "def create_db(connect, dbname):\n",
    "    cursor = connect.cursor()\n",
    "    query = \"CREATE DATABASE IF NOT EXISTS \" + dbname\n",
    "    cursor.execute(query)\n",
    "    print(\"Database created successfully!\\n\")\n",
    "    cursor.execute('SHOW DATABASES')\n",
    "    \n",
    "    return [db for db in cursor]\n",
    "    "
   ]
  },
  {
   "cell_type": "code",
   "execution_count": 6,
   "metadata": {},
   "outputs": [
    {
     "name": "stdout",
     "output_type": "stream",
     "text": [
      "Database version:  [('8.0.23',)]\n",
      "Database created successfully!\n",
      "\n"
     ]
    },
    {
     "data": {
      "text/plain": [
       "[('firstdb',),\n",
       " ('information_schema',),\n",
       " ('iqube_learn',),\n",
       " ('iqube_learn2',),\n",
       " ('iqube_learn3',),\n",
       " ('iqube_lwu',),\n",
       " ('mysql',),\n",
       " ('performance_schema',),\n",
       " ('sys',)]"
      ]
     },
     "execution_count": 6,
     "metadata": {},
     "output_type": "execute_result"
    }
   ],
   "source": [
    "connect = create_connection(passwd)\n",
    "\n",
    "create_db(connect, 'iqube_lwu')\n",
    "\n",
    "#dblist"
   ]
  },
  {
   "cell_type": "markdown",
   "metadata": {},
   "source": [
    "#### Creating data tables"
   ]
  },
  {
   "cell_type": "code",
   "execution_count": 7,
   "metadata": {},
   "outputs": [],
   "source": [
    "def run_query(connect, query):\n",
    "    try:\n",
    "        cursor = connect.cursor()\n",
    "        cursor.execute(query)\n",
    "        print('Query executed successfully.')\n",
    "        cursor.execute(\"SHOW TABLES\")\n",
    "        for tb in cursor:\n",
    "            print(tb)\n",
    "    except Exception as e:\n",
    "        print('Exception error: ', e)"
   ]
  },
  {
   "cell_type": "code",
   "execution_count": 29,
   "metadata": {},
   "outputs": [
    {
     "name": "stdout",
     "output_type": "stream",
     "text": [
      "Database version:  [('8.0.23',)]\n",
      "Query executed successfully.\n",
      "\n"
     ]
    },
    {
     "data": {
      "text/plain": [
       "[]"
      ]
     },
     "execution_count": 29,
     "metadata": {},
     "output_type": "execute_result"
    }
   ],
   "source": [
    "query = \"\"\"\n",
    "    CREATE TABLE IF NOT EXISTS students(\n",
    "        name VARCHAR(255),\n",
    "        age INT\n",
    "        )\n",
    "    \"\"\"\n",
    "\n",
    "connect = create_connection(passwd, \"iqube_lwu\")\n",
    "run_query(connect, query)\n",
    "#new = run_query(connect, \"SHOW TABLES\")"
   ]
  },
  {
   "cell_type": "markdown",
   "metadata": {},
   "source": [
    "#### Populating and Updating data into table"
   ]
  },
  {
   "cell_type": "code",
   "execution_count": 24,
   "metadata": {},
   "outputs": [],
   "source": [
    "def run_query(connect, query):\n",
    "    try:\n",
    "        cursor = connect.cursor()\n",
    "        cursor.execute(query)\n",
    "        connect.commit() # To save changes\n",
    "        print('Query executed successfully.')\n",
    "    except Exception as e:\n",
    "        print('Exception error: ', e)"
   ]
  },
  {
   "cell_type": "code",
   "execution_count": 43,
   "metadata": {},
   "outputs": [
    {
     "name": "stdout",
     "output_type": "stream",
     "text": [
      "Query executed successfully.\n"
     ]
    }
   ],
   "source": [
    "query = \"\"\"\n",
    "    INSERT INTO \n",
    "        students (name, age)\n",
    "    VALUES\n",
    "        ('Rachel', 12),\n",
    "        ('Amanda', 32),\n",
    "        ('Jacob', 21),\n",
    "        ('Avi', 28),\n",
    "        ('Michelle', 17)\"\"\"\n",
    "\n",
    "run_query(connect, query)"
   ]
  },
  {
   "cell_type": "code",
   "execution_count": 25,
   "metadata": {},
   "outputs": [
    {
     "name": "stdout",
     "output_type": "stream",
     "text": [
      "Query executed successfully.\n"
     ]
    }
   ],
   "source": [
    "update = \"\"\"\n",
    "    UPDATE students\n",
    "    SET\n",
    "        age = 13\n",
    "    WHERE \n",
    "        name = 'Jacob'\"\"\"\n",
    "\n",
    "run_query(connect, update)"
   ]
  },
  {
   "cell_type": "markdown",
   "metadata": {},
   "source": [
    "#### Selecting and Getting data and Limiting output"
   ]
  },
  {
   "cell_type": "code",
   "execution_count": 43,
   "metadata": {},
   "outputs": [],
   "source": [
    "def run_query(connect, query):\n",
    "    result = None\n",
    "    try:\n",
    "        cursor = connect.cursor()\n",
    "        cursor.execute(query)\n",
    "        result =  cursor.fetchall()\n",
    "        print('Query executed successfully.\\n')\n",
    "        connect.commit()\n",
    "        return result\n",
    "    except Exception as e:\n",
    "        print('Exception error: ', e)"
   ]
  },
  {
   "cell_type": "code",
   "execution_count": 44,
   "metadata": {},
   "outputs": [
    {
     "name": "stdout",
     "output_type": "stream",
     "text": [
      "Query executed successfully.\n",
      "\n",
      "('Amanda', 32)\n",
      "('Jacob', 13)\n",
      "('Avi', 28)\n",
      "('Michelle', 17)\n"
     ]
    }
   ],
   "source": [
    "query = \"SELECT * FROM students\"\n",
    "\n",
    "out = run_query(connect, query)\n",
    "\n",
    "for row in out:\n",
    "    print(row)"
   ]
  },
  {
   "cell_type": "code",
   "execution_count": 30,
   "metadata": {},
   "outputs": [
    {
     "name": "stdout",
     "output_type": "stream",
     "text": [
      "Query executed successfully.\n",
      "\n",
      "('Rachel', 22)\n",
      "('Rachel', 12)\n",
      "('Amanda', 32)\n"
     ]
    }
   ],
   "source": [
    "query = \"SELECT * FROM students LIMIT 3\"\n",
    "\n",
    "limit = run_query(connect, query)\n",
    "\n",
    "for row in limit:\n",
    "    print(row)"
   ]
  },
  {
   "cell_type": "code",
   "execution_count": 31,
   "metadata": {},
   "outputs": [
    {
     "name": "stdout",
     "output_type": "stream",
     "text": [
      "Query executed successfully.\n",
      "\n",
      "('Amanda', 32)\n",
      "('Jacob', 13)\n",
      "('Avi', 28)\n"
     ]
    }
   ],
   "source": [
    "query = \"SELECT * FROM students LIMIT 3 OFFSET 2\"\n",
    "\n",
    "out = run_query(connect, query)\n",
    "\n",
    "for row in out:\n",
    "    print(row)"
   ]
  },
  {
   "cell_type": "markdown",
   "metadata": {},
   "source": [
    "#### Query condition with WHERE and Wildcards"
   ]
  },
  {
   "cell_type": "code",
   "execution_count": 16,
   "metadata": {},
   "outputs": [
    {
     "name": "stdout",
     "output_type": "stream",
     "text": [
      "Query executed successfully.\n"
     ]
    },
    {
     "data": {
      "text/plain": [
       "[('Amanda', 32), ('Avi', 28)]"
      ]
     },
     "execution_count": 16,
     "metadata": {},
     "output_type": "execute_result"
    }
   ],
   "source": [
    "query = \"\"\"\n",
    "    SELECT * FROM students\n",
    "    WHERE\n",
    "        age > 25\"\"\"\n",
    "\n",
    "run_query(connect, query)"
   ]
  },
  {
   "cell_type": "code",
   "execution_count": 17,
   "metadata": {},
   "outputs": [
    {
     "name": "stdout",
     "output_type": "stream",
     "text": [
      "Query executed successfully.\n"
     ]
    },
    {
     "data": {
      "text/plain": [
       "[('Rachel', 22), ('Rachel', 12)]"
      ]
     },
     "execution_count": 17,
     "metadata": {},
     "output_type": "execute_result"
    }
   ],
   "source": [
    "query = \"\"\"\n",
    "    SELECT * FROM students\n",
    "    WHERE\n",
    "        name LIKE 'Ra%'\"\"\"\n",
    "\n",
    "run_query(connect, query)"
   ]
  },
  {
   "cell_type": "code",
   "execution_count": 18,
   "metadata": {},
   "outputs": [
    {
     "name": "stdout",
     "output_type": "stream",
     "text": [
      "Query executed successfully.\n"
     ]
    },
    {
     "data": {
      "text/plain": [
       "[('Rachel', 22), ('Rachel', 12), ('Jacob', 21)]"
      ]
     },
     "execution_count": 18,
     "metadata": {},
     "output_type": "execute_result"
    }
   ],
   "source": [
    "query = \"\"\"\n",
    "    SELECT * FROM students\n",
    "    WHERE\n",
    "        name LIKE '%ac%'\"\"\"\n",
    "\n",
    "run_query(connect, query)"
   ]
  },
  {
   "cell_type": "code",
   "execution_count": 23,
   "metadata": {},
   "outputs": [
    {
     "name": "stdout",
     "output_type": "stream",
     "text": [
      "Exception error:  'tuple' object has no attribute 'encode'\n"
     ]
    }
   ],
   "source": [
    "# Using placeholders for running mysql queries\n",
    "query = \"\"\"\n",
    "    SELECT * FROM students\n",
    "    WHERE\n",
    "        name = %s\"\"\"\n",
    "\n",
    "run_query(connect, (query, 'Rachel', ))"
   ]
  },
  {
   "cell_type": "code",
   "execution_count": 35,
   "metadata": {},
   "outputs": [
    {
     "name": "stdout",
     "output_type": "stream",
     "text": [
      "Query executed successfully.\n",
      "\n",
      "('Amanda', 32)\n",
      "('Avi', 28)\n",
      "('Rachel', 22)\n",
      "('Michelle', 17)\n",
      "('Jacob', 13)\n",
      "('Rachel', 12)\n"
     ]
    }
   ],
   "source": [
    "order = \"\"\"\n",
    "    SELECT * FROM students ORDER BY age DESC\"\"\"\n",
    "\n",
    "result = run_query(connect, order)\n",
    "for r in result:\n",
    "    print(r)"
   ]
  },
  {
   "cell_type": "code",
   "execution_count": 36,
   "metadata": {},
   "outputs": [
    {
     "name": "stdout",
     "output_type": "stream",
     "text": [
      "Query executed successfully.\n",
      "\n",
      "('Rachel', 22)\n",
      "('Rachel', 12)\n",
      "('Michelle', 17)\n",
      "('Jacob', 13)\n",
      "('Avi', 28)\n",
      "('Amanda', 32)\n"
     ]
    }
   ],
   "source": [
    "order = \"\"\"\n",
    "    SELECT * FROM students ORDER BY name DESC\"\"\"\n",
    "\n",
    "result = run_query(connect, order)\n",
    "for r in result:\n",
    "    print(r)"
   ]
  },
  {
   "cell_type": "markdown",
   "metadata": {},
   "source": [
    "#### MySql to pandas DataFrame"
   ]
  },
  {
   "cell_type": "code",
   "execution_count": 12,
   "metadata": {},
   "outputs": [
    {
     "name": "stdout",
     "output_type": "stream",
     "text": [
      "Query executed successfully.\n"
     ]
    },
    {
     "data": {
      "text/plain": [
       "[('name', b'varchar(255)', 'YES', '', None, ''),\n",
       " ('age', b'int', 'YES', '', None, '')]"
      ]
     },
     "execution_count": 12,
     "metadata": {},
     "output_type": "execute_result"
    }
   ],
   "source": [
    "query = \"SHOW COLUMNS FROM students\"\n",
    "\n",
    "out2 = run_query(connect, query)\n",
    "\n",
    "out2"
   ]
  },
  {
   "cell_type": "code",
   "execution_count": 14,
   "metadata": {},
   "outputs": [
    {
     "data": {
      "text/html": [
       "<div>\n",
       "<style scoped>\n",
       "    .dataframe tbody tr th:only-of-type {\n",
       "        vertical-align: middle;\n",
       "    }\n",
       "\n",
       "    .dataframe tbody tr th {\n",
       "        vertical-align: top;\n",
       "    }\n",
       "\n",
       "    .dataframe thead th {\n",
       "        text-align: right;\n",
       "    }\n",
       "</style>\n",
       "<table border=\"1\" class=\"dataframe\">\n",
       "  <thead>\n",
       "    <tr style=\"text-align: right;\">\n",
       "      <th></th>\n",
       "      <th>name</th>\n",
       "      <th>age</th>\n",
       "    </tr>\n",
       "  </thead>\n",
       "  <tbody>\n",
       "    <tr>\n",
       "      <th>0</th>\n",
       "      <td>Rachel</td>\n",
       "      <td>22</td>\n",
       "    </tr>\n",
       "    <tr>\n",
       "      <th>1</th>\n",
       "      <td>Rachel</td>\n",
       "      <td>12</td>\n",
       "    </tr>\n",
       "    <tr>\n",
       "      <th>2</th>\n",
       "      <td>Amanda</td>\n",
       "      <td>32</td>\n",
       "    </tr>\n",
       "    <tr>\n",
       "      <th>3</th>\n",
       "      <td>Jacob</td>\n",
       "      <td>21</td>\n",
       "    </tr>\n",
       "    <tr>\n",
       "      <th>4</th>\n",
       "      <td>Avi</td>\n",
       "      <td>28</td>\n",
       "    </tr>\n",
       "    <tr>\n",
       "      <th>5</th>\n",
       "      <td>Michelle</td>\n",
       "      <td>17</td>\n",
       "    </tr>\n",
       "  </tbody>\n",
       "</table>\n",
       "</div>"
      ],
      "text/plain": [
       "       name  age\n",
       "0    Rachel   22\n",
       "1    Rachel   12\n",
       "2    Amanda   32\n",
       "3     Jacob   21\n",
       "4       Avi   28\n",
       "5  Michelle   17"
      ]
     },
     "execution_count": 14,
     "metadata": {},
     "output_type": "execute_result"
    }
   ],
   "source": [
    "import pandas as pd\n",
    "columns = [tupl[0] for tupl in out2]\n",
    "newt = pd.DataFrame(out, columns = columns)\n",
    "newt"
   ]
  },
  {
   "cell_type": "markdown",
   "metadata": {},
   "source": [
    "### Deleting Entries and dropping queries"
   ]
  },
  {
   "cell_type": "code",
   "execution_count": 38,
   "metadata": {},
   "outputs": [
    {
     "name": "stdout",
     "output_type": "stream",
     "text": [
      "Query executed successfully.\n",
      "\n"
     ]
    }
   ],
   "source": [
    "delete = \"\"\"DELETE FROM students\n",
    "    WHERE\n",
    "        name = 'Rachel'\"\"\"\n",
    "run_query(connect, delete)"
   ]
  },
  {
   "cell_type": "code",
   "execution_count": 46,
   "metadata": {},
   "outputs": [
    {
     "name": "stdout",
     "output_type": "stream",
     "text": [
      "Query executed successfully.\n",
      "\n"
     ]
    },
    {
     "data": {
      "text/plain": [
       "[]"
      ]
     },
     "execution_count": 46,
     "metadata": {},
     "output_type": "execute_result"
    }
   ],
   "source": [
    "# Deleting tables\n",
    "\n",
    "delete = \"\"\"DROP TABLE IF EXISTS students\"\"\"\n",
    "run_query(connect, delete)"
   ]
  },
  {
   "cell_type": "code",
   "execution_count": 53,
   "metadata": {},
   "outputs": [
    {
     "name": "stdout",
     "output_type": "stream",
     "text": [
      "Query executed successfully.\n",
      "\n"
     ]
    },
    {
     "data": {
      "text/plain": [
       "[]"
      ]
     },
     "execution_count": 53,
     "metadata": {},
     "output_type": "execute_result"
    }
   ],
   "source": [
    "# Deleting databases\n",
    "\n",
    "delete = \"\"\"DROP DATABASE IF EXISTS iqube_learn\"\"\"\n",
    "run_query(connect, delete)"
   ]
  },
  {
   "cell_type": "code",
   "execution_count": 54,
   "metadata": {},
   "outputs": [
    {
     "name": "stdout",
     "output_type": "stream",
     "text": [
      "Query executed successfully.\n",
      "\n"
     ]
    },
    {
     "data": {
      "text/plain": [
       "[('firstdb',),\n",
       " ('information_schema',),\n",
       " ('iqube_lwu',),\n",
       " ('mysql',),\n",
       " ('performance_schema',),\n",
       " ('sys',)]"
      ]
     },
     "execution_count": 54,
     "metadata": {},
     "output_type": "execute_result"
    }
   ],
   "source": [
    "# Deleting databases\n",
    "\n",
    "showdb = \"\"\"SHOW DATABASES\"\"\"\n",
    "check = run_query(connect, showdb)\n",
    "check"
   ]
  }
 ],
 "metadata": {
  "kernelspec": {
   "display_name": "Python 3",
   "language": "python",
   "name": "python3"
  },
  "language_info": {
   "codemirror_mode": {
    "name": "ipython",
    "version": 3
   },
   "file_extension": ".py",
   "mimetype": "text/x-python",
   "name": "python",
   "nbconvert_exporter": "python",
   "pygments_lexer": "ipython3",
   "version": "3.8.5"
  }
 },
 "nbformat": 4,
 "nbformat_minor": 4
}
